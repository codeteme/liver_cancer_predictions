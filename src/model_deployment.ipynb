{
 "cells": [
  {
   "cell_type": "code",
   "execution_count": 1,
   "metadata": {},
   "outputs": [],
   "source": [
    "import pickle\n",
    "import pandas as pd\n",
    "import numpy as np\n",
    "import tensorflow as tf"
   ]
  },
  {
   "cell_type": "markdown",
   "metadata": {},
   "source": [
    "#### Load Feature Engineering Objects"
   ]
  },
  {
   "cell_type": "code",
   "execution_count": 2,
   "metadata": {},
   "outputs": [],
   "source": [
    "# Define each variable as ordinal, binary, nominal, or numerical\n",
    "ordinal_features = ['Alcohol_Consumption', 'Obesity', 'Healthcare_Access', \n",
    "                    'Preventive_Care', 'Seafood_Consumption']\n",
    "\n",
    "binary_features = ['Smoking_Status', 'Hepatitis_B_Status', 'Hepatitis_C_Status',\n",
    "                   'Diabetes', 'Screening_Availability', 'Treatment_Availability', \n",
    "                   'Liver_Transplant_Access', 'Herbal_Medicine_Use']\n",
    "\n",
    "nominal_features = ['Country', 'Region', 'Gender', 'Rural_or_Urban', 'Ethnicity']\n",
    "\n",
    "numerical_features = ['Population', 'Incidence_Rate', 'Mortality_Rate', 'Age', 'Cost_of_Treatment', 'Survival_Rate']\n",
    "\n",
    "target_variable = ['Prediction']\n"
   ]
  },
  {
   "cell_type": "code",
   "execution_count": 3,
   "metadata": {},
   "outputs": [],
   "source": [
    "with open(\"ordinal_encoder.pkl\", \"rb\") as f:\n",
    "    ordinal_encoder = pickle.load(f)\n",
    "\n",
    "with open(\"one_hot_encoder.pkl\", \"rb\") as f:\n",
    "    one_hot_encoder = pickle.load(f)\n",
    "\n",
    "with open(\"scaler.pkl\", \"rb\") as f:\n",
    "    scaler = pickle.load(f)\n",
    "\n",
    "# Load feature names used during training\n",
    "with open(\"feature_names.pkl\", \"rb\") as f:\n",
    "    feature_names = pickle.load(f)"
   ]
  },
  {
   "cell_type": "markdown",
   "metadata": {},
   "source": [
    "#### Load Trained ML & Deep Learning Models\n"
   ]
  },
  {
   "cell_type": "code",
   "execution_count": 4,
   "metadata": {},
   "outputs": [],
   "source": [
    "with open(\"rf_model.pkl\", \"rb\") as model_file:\n",
    "    rf_model = pickle.load(model_file)\n",
    "\n",
    "deep_learning_model = tf.keras.models.load_model(\"deep_learning_model.keras\")"
   ]
  },
  {
   "cell_type": "markdown",
   "metadata": {},
   "source": [
    "#### Preprocess Data"
   ]
  },
  {
   "cell_type": "code",
   "execution_count": 5,
   "metadata": {},
   "outputs": [],
   "source": [
    "def preprocess_input(data):\n",
    "    df = pd.DataFrame([data])\n",
    "\n",
    "    # Apply Ordinal Encoding\n",
    "    df[ordinal_features] = ordinal_encoder.transform(df[ordinal_features])\n",
    "\n",
    "    # Apply Binary Encoding\n",
    "    for col in binary_features:\n",
    "        df[col] = df[col].map({\n",
    "            'No': 0, 'Yes': 1,\n",
    "            'Negative': 0, 'Positive': 1,\n",
    "            'Non-Smoker': 0, 'Smoker': 1,\n",
    "            'Not Available': 0, 'Available': 1,\n",
    "        })\n",
    "\n",
    "    # Apply One-Hot Encoding\n",
    "    encoded_nominals = one_hot_encoder.transform(df[nominal_features])\n",
    "    nominal_feature_names = one_hot_encoder.get_feature_names_out(nominal_features)\n",
    "    df_nominal = pd.DataFrame(encoded_nominals, columns=nominal_feature_names, index=df.index)\n",
    "\n",
    "    # Drop original categorical columns and join encoded ones\n",
    "    df = df.drop(columns=nominal_features).join(df_nominal)\n",
    "\n",
    "    # Apply Scaling to Numerical Features\n",
    "    df[numerical_features] = scaler.transform(df[numerical_features])\n",
    "\n",
    "    # **Force column order to match training set (Fix the error)**\n",
    "    df = df[feature_names]\n",
    "\n",
    "    return df"
   ]
  },
  {
   "cell_type": "markdown",
   "metadata": {},
   "source": [
    "#### Define Prediction Functions\n"
   ]
  },
  {
   "cell_type": "code",
   "execution_count": 6,
   "metadata": {},
   "outputs": [],
   "source": [
    "def predict_rf(data):\n",
    "    input_features = preprocess_input(data)\n",
    "    prediction = rf_model.predict(input_features)\n",
    "    return {\"prediction\": int(prediction[0])}\n",
    "\n",
    "def predict_dl(data):\n",
    "    input_features = preprocess_input(data)\n",
    "    prediction = deep_learning_model.predict(input_features)\n",
    "    return {\"prediction\": float(prediction[0, 0])}\n"
   ]
  },
  {
   "cell_type": "markdown",
   "metadata": {},
   "source": [
    "#### Test with Sample Input\n"
   ]
  },
  {
   "cell_type": "code",
   "execution_count": 7,
   "metadata": {},
   "outputs": [
    {
     "name": "stdout",
     "output_type": "stream",
     "text": [
      "\n",
      " Random Forest Prediction: {'prediction': 0}\n",
      "\u001b[1m1/1\u001b[0m \u001b[32m━━━━━━━━━━━━━━━━━━━━\u001b[0m\u001b[37m\u001b[0m \u001b[1m0s\u001b[0m 32ms/step\n",
      "\n",
      " Deep Learning Prediction: {'prediction': 0.20820412039756775}\n"
     ]
    }
   ],
   "source": [
    "sample_input = {\n",
    "    \"Country\": \"United States\",\n",
    "    \"Region\": \"North America\",\n",
    "    \"Population\": 331000000,\n",
    "    \"Incidence_Rate\": 4.2,\n",
    "    \"Mortality_Rate\": 1.5,\n",
    "    \"Gender\": \"Male\",\n",
    "    \"Age\": 55,\n",
    "    \"Alcohol_Consumption\": \"Moderate\",\n",
    "    \"Smoking_Status\": \"Non-Smoker\",\n",
    "    \"Hepatitis_B_Status\": \"Negative\",\n",
    "    \"Hepatitis_C_Status\": \"Negative\",\n",
    "    \"Obesity\": \"Overweight\",\n",
    "    \"Diabetes\": \"No\",\n",
    "    \"Rural_or_Urban\": \"Urban\",\n",
    "    \"Seafood_Consumption\": \"Low\",\n",
    "    \"Herbal_Medicine_Use\": \"Yes\",\n",
    "    \"Healthcare_Access\": \"Good\",\n",
    "    \"Screening_Availability\": \"Available\",\n",
    "    \"Treatment_Availability\": \"Available\",\n",
    "    \"Liver_Transplant_Access\": \"No\",\n",
    "    \"Ethnicity\": \"Caucasian\",\n",
    "    \"Preventive_Care\": \"Moderate\",\n",
    "    \"Cost_of_Treatment\": 20000,\n",
    "    \"Survival_Rate\": 95.0\n",
    "}\n",
    "\n",
    "# Predict using Random Forest\n",
    "print(\"\\n Random Forest Prediction:\", predict_rf(sample_input))\n",
    "\n",
    "# Predict using Deep Learning\n",
    "print(\"\\n Deep Learning Prediction:\", predict_dl(sample_input))"
   ]
  },
  {
   "cell_type": "code",
   "execution_count": null,
   "metadata": {},
   "outputs": [],
   "source": []
  }
 ],
 "metadata": {
  "kernelspec": {
   "display_name": "venvmsds422",
   "language": "python",
   "name": "python3"
  },
  "language_info": {
   "codemirror_mode": {
    "name": "ipython",
    "version": 3
   },
   "file_extension": ".py",
   "mimetype": "text/x-python",
   "name": "python",
   "nbconvert_exporter": "python",
   "pygments_lexer": "ipython3",
   "version": "3.12.8"
  }
 },
 "nbformat": 4,
 "nbformat_minor": 2
}
